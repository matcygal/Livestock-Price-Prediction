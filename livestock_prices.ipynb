{
 "cells": [
  {
   "cell_type": "code",
   "execution_count": 1,
   "metadata": {},
   "outputs": [],
   "source": [
    "import torch\n",
    "import torch.nn as nn\n",
    "\n",
    "import numpy as np\n",
    "import pandas as pd\n",
    "import ezodf\n",
    "import matplotlib.pyplot as plt\n",
    "import matplotlib.dates as mdates\n",
    "from sklearn.preprocessing import MinMaxScaler\n",
    "from pandas.plotting import register_matplotlib_converters\n",
    "%matplotlib inline"
   ]
  },
  {
   "cell_type": "markdown",
   "metadata": {},
   "source": [
    "Function to import ODS"
   ]
  },
  {
   "cell_type": "code",
   "execution_count": 2,
   "metadata": {},
   "outputs": [],
   "source": [
    "def read_ods(filename, sheet_no=0, header=0):\n",
    "    tab = ezodf.opendoc(filename=filename).sheets[sheet_no]\n",
    "    return pd.DataFrame({col[header].value:[x.value for x in col[header+1:]]\n",
    "                         for col in tab.columns()})"
   ]
  },
  {
   "cell_type": "markdown",
   "metadata": {},
   "source": [
    "Import dataset from https://www.gov.uk/government/publications/bovine-tb-historical-compensation-value-tables"
   ]
  },
  {
   "cell_type": "code",
   "execution_count": 3,
   "metadata": {},
   "outputs": [],
   "source": [
    "df = read_ods(\"tbcompensation-commodity-prices-nov2019.ods\", header=13)"
   ]
  },
  {
   "cell_type": "markdown",
   "metadata": {},
   "source": [
    "Remove unneeded columns"
   ]
  },
  {
   "cell_type": "code",
   "execution_count": 4,
   "metadata": {},
   "outputs": [
    {
     "name": "stdout",
     "output_type": "stream",
     "text": [
      "shape: (165, 2)\n",
      "         Month  Bull 24 months and over\n",
      "115 2015-10-01                   2466.0\n",
      "116 2015-11-01                   2452.0\n",
      "117 2015-12-01                   2171.0\n",
      "118 2016-01-01                   1994.0\n",
      "119 2016-02-01                   2013.0\n",
      "120 2016-03-01                   2180.0\n",
      "121 2016-04-01                   2229.0\n",
      "122 2016-05-01                   2183.0\n",
      "123 2016-06-01                   2363.0\n",
      "124 2016-07-01                   2433.0\n",
      "125 2016-08-01                   2391.0\n",
      "126 2016-09-19                   2314.0\n",
      "127 2016-10-20                   2246.0\n",
      "128 2016-11-19                   2287.0\n",
      "129 2016-12-20                   2102.0\n",
      "130 2017-01-18                   1912.0\n",
      "131 2017-02-19                   1930.0\n",
      "132 2017-03-22                   2182.0\n",
      "133 2017-04-19                   2350.0\n",
      "134 2017-05-20                   2402.0\n",
      "135 2017-06-19                   2778.0\n",
      "136 2017-07-20                   2741.0\n",
      "137 2017-08-19                   2699.0\n",
      "138 2017-09-19                   2598.0\n",
      "139 2017-10-20                   2564.0\n",
      "140 2017-11-19                   2476.0\n",
      "141 2017-12-20                   2225.0\n",
      "142 2018-01-17                   2131.0\n",
      "143 2018-02-19                   2135.0\n",
      "144 2018-03-22                   2443.0\n",
      "145 2018-04-19                   2507.0\n",
      "146 2018-05-20                   2672.0\n",
      "147 2018-06-19                   2751.0\n",
      "148 2018-07-20                   2752.0\n",
      "149 2018-08-19                   2668.0\n",
      "150 2018-09-19                   2486.0\n",
      "151 2018-10-20                   2406.0\n",
      "152 2018-11-19                   2351.0\n",
      "153 2018-12-20                   2134.0\n",
      "154 2019-01-17                   1927.0\n",
      "155 2019-02-19                   1913.0\n",
      "156 2019-03-22                   2176.0\n",
      "157 2019-04-19                   2245.0\n",
      "158 2019-05-20                   2361.0\n",
      "159 2019-06-19                   2671.0\n",
      "160 2019-07-19                   2614.0\n",
      "161 2019-08-21                   2538.0\n",
      "162 2019-09-23                   2407.0\n",
      "163 2019-10-20                   2352.0\n",
      "164 2019-11-19                   2270.0\n"
     ]
    }
   ],
   "source": [
    "df = df[['Month', 'Bull 24 months and over']]\n",
    "df['Month'] = pd.to_datetime(df['Month'])\n",
    "df.drop(df.tail(2).index,inplace=True)\n",
    "print('shape: ' + str(df.shape))\n",
    "print(df.tail(50))"
   ]
  },
  {
   "cell_type": "markdown",
   "metadata": {},
   "source": [
    "Plot 'Bull 24 months and over' data"
   ]
  },
  {
   "cell_type": "code",
   "execution_count": 5,
   "metadata": {},
   "outputs": [
    {
     "data": {
      "text/plain": [
       "[]"
      ]
     },
     "execution_count": 5,
     "metadata": {},
     "output_type": "execute_result"
    },
    {
     "data": {
      "image/png": "[encoded data removed]",
      "text/plain": [
       "<Figure size 432x288 with 1 Axes>"
      ]
     },
     "metadata": {
      "needs_background": "light"
     },
     "output_type": "display_data"
    }
   ],
   "source": [
    "register_matplotlib_converters()\n",
    "fig, ax = plt.subplots()\n",
    "ax.plot('Month', 'Bull 24 months and over', data=df)\n",
    "ax.xaxis_date()\n",
    "fig.autofmt_xdate()\n",
    "ax.xaxis.set_major_locator(mdates.YearLocator())\n",
    "ax.xaxis.set_major_formatter(mdates.DateFormatter('%Y'))\n",
    "ax.set_title('Bull 24 months and over prices')\n",
    "ax.set_ylabel('Price')\n",
    "ax.set_xlabel('Year')\n",
    "plt.grid()\n",
    "plt.plot()"
   ]
  },
  {
   "cell_type": "markdown",
   "metadata": {},
   "source": [
    "Split and normalize data"
   ]
  },
  {
   "cell_type": "code",
   "execution_count": 6,
   "metadata": {},
   "outputs": [],
   "source": [
    "data = df['Bull 24 months and over'].values.astype(float)\n",
    "test_size = 45\n",
    "train_data = data[:-test_size]\n",
    "test_data = data[-test_size:]\n",
    "scaler = MinMaxScaler()\n",
    "train_data_normalized = scaler.fit_transform(train_data .reshape(-1, 1))"
   ]
  },
  {
   "cell_type": "code",
   "execution_count": 7,
   "metadata": {},
   "outputs": [
    {
     "name": "stdout",
     "output_type": "stream",
     "text": [
      "[[0.52123192]\n",
      " [0.52309846]\n",
      " [0.48716752]\n",
      " [0.54923005]\n",
      " [0.42883808]\n",
      " [0.42883808]\n",
      " [0.39804013]\n",
      " [0.37050863]\n",
      " [0.40317312]\n",
      " [0.30331311]\n",
      " [0.37937471]\n",
      " [0.34577695]\n",
      " [0.53849743]\n",
      " [0.69388707]\n",
      " [0.69202053]\n",
      " [0.82967802]\n",
      " [0.71908539]\n",
      " [0.69715352]\n",
      " [0.66448903]\n",
      " [0.62015866]\n",
      " [0.58609426]\n",
      " [0.11339244]\n",
      " [0.        ]\n",
      " [0.00373308]\n",
      " [0.15445637]\n",
      " [0.27718152]\n",
      " [0.31731218]\n",
      " [0.80867942]\n",
      " [0.75034998]\n",
      " [0.74055063]\n",
      " [0.71861876]\n",
      " [0.64442371]\n",
      " [0.65328978]\n",
      " [0.46943537]\n",
      " [0.42137191]\n",
      " [0.43397107]\n",
      " [0.59122725]\n",
      " [0.68362109]\n",
      " [0.70321979]\n",
      " [0.99020065]\n",
      " [0.86047597]\n",
      " [0.86327578]\n",
      " [0.82967802]\n",
      " [0.80634624]\n",
      " [0.75828278]\n",
      " [0.48576762]\n",
      " [0.54363042]\n",
      " [0.48483434]\n",
      " [0.54503033]\n",
      " [0.68362109]\n",
      " [0.67615492]\n",
      " [0.85114326]\n",
      " [0.83014466]\n",
      " [0.82034531]\n",
      " [0.87914139]\n",
      " [0.85580961]\n",
      " [0.81987867]\n",
      " [0.50816612]\n",
      " [0.36724218]\n",
      " [0.40970602]\n",
      " [0.36070929]\n",
      " [0.38824078]\n",
      " [0.4395707 ]\n",
      " [0.48203453]\n",
      " [0.43490434]\n",
      " [0.45590294]\n",
      " [0.45170322]\n",
      " [0.42510499]\n",
      " [0.53009799]\n",
      " [0.55762949]\n",
      " [0.65048997]\n",
      " [0.67755483]\n",
      " [0.78768082]\n",
      " [0.83294447]\n",
      " [1.        ]\n",
      " [0.93000467]\n",
      " [0.87120859]\n",
      " [0.83714419]\n",
      " [0.79841344]\n",
      " [0.77508166]\n",
      " [0.69388707]\n",
      " [0.66308913]\n",
      " [0.64162389]\n",
      " [0.65142324]\n",
      " [0.75314979]\n",
      " [0.72841811]\n",
      " [0.82221185]\n",
      " [0.89360709]\n",
      " [0.82221185]\n",
      " [0.80821279]\n",
      " [0.75968269]\n",
      " [0.75128325]\n",
      " [0.6705553 ]\n",
      " [0.49976668]\n",
      " [0.49510033]\n",
      " [0.49043397]\n",
      " [0.55669622]\n",
      " [0.62575828]\n",
      " [0.70415306]\n",
      " [0.74241717]\n",
      " [0.70508633]\n",
      " [0.685021  ]\n",
      " [0.63042464]\n",
      " [0.58189454]\n",
      " [0.54269715]\n",
      " [0.37377508]\n",
      " [0.26738217]\n",
      " [0.26831545]\n",
      " [0.42417172]\n",
      " [0.51609893]\n",
      " [0.52869809]\n",
      " [0.70275315]\n",
      " [0.69062063]\n",
      " [0.66168922]\n",
      " [0.60662622]\n",
      " [0.58329445]\n",
      " [0.57676155]\n",
      " [0.44563696]\n",
      " [0.36304246]\n",
      " [0.37190854]]\n"
     ]
    }
   ],
   "source": [
    "print(train_data_normalized)"
   ]
  },
  {
   "cell_type": "markdown",
   "metadata": {},
   "source": [
    "Create float tensor."
   ]
  },
  {
   "cell_type": "code",
   "execution_count": 8,
   "metadata": {},
   "outputs": [],
   "source": [
    "train_data_normalized = torch.FloatTensor(train_data_normalized).view(-1)"
   ]
  },
  {
   "cell_type": "markdown",
   "metadata": {},
   "source": [
    "Create function to group data in 12 month sequences"
   ]
  },
  {
   "cell_type": "code",
   "execution_count": 9,
   "metadata": {},
   "outputs": [],
   "source": [
    "def to_year_sequence(data):\n",
    "    seq = []\n",
    "    L = len(data)\n",
    "    for i in range(L-12):\n",
    "        train_seq = data[i:i+12]\n",
    "        train_label = data[i+12:i+12+1]\n",
    "        seq.append((train_seq ,train_label))\n",
    "    return seq"
   ]
  },
  {
   "cell_type": "code",
   "execution_count": 10,
   "metadata": {},
   "outputs": [],
   "source": [
    "seq_data = to_year_sequence(train_data_normalized)"
   ]
  },
  {
   "cell_type": "markdown",
   "metadata": {},
   "source": [
    "Create Model"
   ]
  },
  {
   "cell_type": "code",
   "execution_count": 11,
   "metadata": {},
   "outputs": [],
   "source": [
    "class LSTM(nn.Module):\n",
    "    def __init__(self, input_size=1, hidden_layer_size=100, output_size=1):\n",
    "        super(LSTM, self).__init__()\n",
    "        self.input_size = input_size\n",
    "        self.hidden_size = hidden_layer_size\n",
    "        self.hidden_cell = self.init_hidden()\n",
    "        self.lstm = nn.LSTM(input_size, hidden_layer_size)\n",
    "        self.linear = nn.Linear(self.hidden_size, output_size)\n",
    "\n",
    "    def init_hidden(self):\n",
    "        return (torch.zeros(1, 1, self.hidden_size),\n",
    "                torch.zeros(1, 1, self.hidden_size))\n",
    "\n",
    "    def forward(self, input_seq):\n",
    "        lstm_out, self.hidden_cell = self.lstm(input_seq.view(len(input_seq) ,1, -1), self.hidden_cell)\n",
    "        predictions = self.linear(lstm_out.view(len(input_seq), -1))\n",
    "        return predictions[-1]"
   ]
  },
  {
   "cell_type": "markdown",
   "metadata": {},
   "source": [
    "assign MSE loss function and AMSGRAD optimizer as we dont have a lot of train data"
   ]
  },
  {
   "cell_type": "code",
   "execution_count": 12,
   "metadata": {},
   "outputs": [],
   "source": [
    "model=LSTM()\n",
    "loss = torch.nn.MSELoss(reduction='sum')\n",
    "optimizer = torch.optim.Adam(model.parameters(), lr=0.001, amsgrad=True)"
   ]
  },
  {
   "cell_type": "markdown",
   "metadata": {},
   "source": [
    "training models, 1500 epoch as we using small learning rate, but AMSGRAD optimizer and dataset size make training quite quick."
   ]
  },
  {
   "cell_type": "code",
   "execution_count": 13,
   "metadata": {},
   "outputs": [
    {
     "name": "stdout",
     "output_type": "stream",
     "text": [
      "epoch:   1 loss: 0.00992088\n",
      "epoch: 101 loss: 0.00017267\n",
      "epoch: 201 loss: 0.00118696\n",
      "epoch: 301 loss: 0.00047896\n",
      "epoch: 401 loss: 0.00000672\n",
      "epoch: 501 loss: 0.00006863\n",
      "epoch: 601 loss: 0.00000000\n",
      "epoch: 701 loss: 0.00030988\n",
      "epoch: 801 loss: 0.00000006\n",
      "epoch: 901 loss: 0.00000000\n",
      "epoch: 1001 loss: 0.00000000\n",
      "epoch: 1101 loss: 0.00000000\n",
      "epoch: 1201 loss: 0.00000000\n",
      "epoch: 1301 loss: 0.00000000\n",
      "epoch: 1401 loss: 0.00000000\n",
      "epoch: 1499 loss: 0.0000000000\n"
     ]
    }
   ],
   "source": [
    "epochs = 1500\n",
    "\n",
    "for i in range(epochs):\n",
    "    for seq, labels in seq_data:\n",
    "        optimizer.zero_grad()\n",
    "        model.hidden_cell = (torch.zeros(1, 1, model.hidden_size),\n",
    "                        torch.zeros(1, 1, model.hidden_size))\n",
    "\n",
    "        y_pred = model(seq)\n",
    "\n",
    "        single_loss = loss(y_pred, labels)\n",
    "        single_loss.backward()\n",
    "        optimizer.step()\n",
    "\n",
    "    if i%100 == 1:\n",
    "        print(f'epoch: {i:3} loss: {single_loss.item():10.8f}')\n",
    "\n",
    "print(f'epoch: {i:3} loss: {single_loss.item():10.10f}')"
   ]
  },
  {
   "cell_type": "markdown",
   "metadata": {},
   "source": [
    "Prepare data to predict last 12 months"
   ]
  },
  {
   "cell_type": "code",
   "execution_count": 14,
   "metadata": {},
   "outputs": [
    {
     "name": "stdout",
     "output_type": "stream",
     "text": [
      "[0.42417171597480774, 0.5160989165306091, 0.5286980867385864, 0.7027531266212463, 0.6906206011772156, 0.6616892218589783, 0.6066262125968933, 0.5832944512367249, 0.5767615437507629, 0.44563695788383484, 0.3630424737930298, 0.3719085454940796]\n"
     ]
    }
   ],
   "source": [
    "pred = 12\n",
    "\n",
    "test_inputs = train_data_normalized[-12:].tolist()\n",
    "print(test_inputs)"
   ]
  },
  {
   "cell_type": "markdown",
   "metadata": {},
   "source": [
    "make predictions"
   ]
  },
  {
   "cell_type": "code",
   "execution_count": 15,
   "metadata": {},
   "outputs": [],
   "source": [
    "model.eval()\n",
    "\n",
    "for i in range(pred):\n",
    "    seq = torch.FloatTensor(test_inputs[-12:])\n",
    "    with torch.no_grad():\n",
    "        model.hidden = (torch.zeros(1, 1, model.hidden_size),\n",
    "                        torch.zeros(1, 1, model.hidden_size))\n",
    "        test_inputs.append(model(seq).item())"
   ]
  },
  {
   "cell_type": "markdown",
   "metadata": {},
   "source": [
    "Print normalized predictions"
   ]
  },
  {
   "cell_type": "code",
   "execution_count": 16,
   "metadata": {},
   "outputs": [
    {
     "data": {
      "text/plain": [
       "[0.5035097599029541,\n",
       " 0.5142848491668701,\n",
       " 0.718795120716095,\n",
       " 0.7195456027984619,\n",
       " 0.6769477128982544,\n",
       " 0.7499633431434631,\n",
       " 0.7322495579719543,\n",
       " 0.7452636361122131,\n",
       " 0.4698653221130371,\n",
       " 0.37133729457855225,\n",
       " 0.3541511297225952,\n",
       " 0.35320380330085754]"
      ]
     },
     "execution_count": 16,
     "metadata": {},
     "output_type": "execute_result"
    }
   ],
   "source": [
    "test_inputs[pred:]"
   ]
  },
  {
   "cell_type": "markdown",
   "metadata": {},
   "source": [
    "Get actual predictions"
   ]
  },
  {
   "cell_type": "code",
   "execution_count": 17,
   "metadata": {},
   "outputs": [],
   "source": [
    "actual_predictions = scaler.inverse_transform(np.array(test_inputs[12:] ).reshape(-1, 1))\n",
    "actual_predictions = np.flip(actual_predictions, 0)"
   ]
  },
  {
   "cell_type": "markdown",
   "metadata": {},
   "source": [
    "Create labaled predictions dataframe"
   ]
  },
  {
   "cell_type": "code",
   "execution_count": 18,
   "metadata": {},
   "outputs": [
    {
     "name": "stdout",
     "output_type": "stream",
     "text": [
      "        Month  Bull 24 months and over prediction\n",
      "0  2018-12-20                         1972.915750\n",
      "1  2019-01-17                         1974.945871\n",
      "2  2019-02-19                         2011.775822\n",
      "3  2019-03-22                         2222.921385\n",
      "4  2019-04-19                         2813.099972\n",
      "5  2019-05-20                         2785.210803\n",
      "6  2019-06-19                         2823.171444\n",
      "7  2019-07-19                         2666.698949\n",
      "8  2019-08-21                         2757.986227\n",
      "9  2019-09-23                         2756.377944\n",
      "10 2019-10-20                         2318.112432\n",
      "11 2019-11-19                         2295.021415\n"
     ]
    }
   ],
   "source": [
    "df_pred_labels = df['Month'][-12:].reset_index(drop=True).to_frame()\n",
    "df_pred = df_pred_labels.join(pd.DataFrame(actual_predictions))\n",
    "df_pred.rename(columns={0:'Bull 24 months and over prediction'}, inplace=True)\n",
    "print(df_pred)"
   ]
  },
  {
   "cell_type": "markdown",
   "metadata": {},
   "source": [
    "Plot the data to compare Bull 24 months and over prices(blue) with model price prediction (yellow)"
   ]
  },
  {
   "cell_type": "code",
   "execution_count": 19,
   "metadata": {},
   "outputs": [
    {
     "data": {
      "text/plain": [
       "[]"
      ]
     },
     "execution_count": 19,
     "metadata": {},
     "output_type": "execute_result"
    },
    {
     "data": {
      "image/png": "[encoded data removed]",
      "text/plain": [
       "<Figure size 432x288 with 1 Axes>"
      ]
     },
     "metadata": {
      "needs_background": "light"
     },
     "output_type": "display_data"
    }
   ],
   "source": [
    "fig, ax = plt.subplots()\n",
    "ax.plot('Month', 'Bull 24 months and over', data=df)\n",
    "ax.plot('Month', 'Bull 24 months and over prediction', data=df_pred)\n",
    "ax.xaxis_date()\n",
    "fig.autofmt_xdate()\n",
    "ax.xaxis.set_major_locator(mdates.YearLocator())\n",
    "ax.xaxis.set_major_formatter(mdates.DateFormatter('%Y'))\n",
    "ax.set_title('Bull 24 months and over prices')\n",
    "ax.set_ylabel('Price')\n",
    "ax.set_xlabel('Year')\n",
    "plt.grid()\n",
    "plt.plot()"
   ]
  },
  {
   "cell_type": "markdown",
   "metadata": {},
   "source": [
    "# Summary"
   ]
  },
  {
   "cell_type": "markdown",
   "metadata": {},
   "source": [
    "I have used LSTM model, in my opinion is the best for sequential problems."
   ]
  },
  {
   "cell_type": "markdown",
   "metadata": {},
   "source": [
    "LSTM can obtain reasonable predictions in short period of time. I run it on CPU (6th gen i5) but probably you can get better results using GPU."
   ]
  },
  {
   "cell_type": "markdown",
   "metadata": {},
   "source": [
    "It can be improved by adding CNN and correlations between data. (eg. https://www.gov.uk/government/statistical-data-sets/livestock-prices-finished-and-store)"
   ]
  },
  {
   "cell_type": "code",
   "execution_count": null,
   "metadata": {},
   "outputs": [],
   "source": []
  }
 ],
 "metadata": {
  "kernelspec": {
   "display_name": "Python 3",
   "language": "python",
   "name": "python3"
  },
  "language_info": {
   "codemirror_mode": {
    "name": "ipython",
    "version": 3
   },
   "file_extension": ".py",
   "mimetype": "text/x-python",
   "name": "python",
   "nbconvert_exporter": "python",
   "pygments_lexer": "ipython3",
   "version": "3.7.3"
  }
 },
 "nbformat": 4,
 "nbformat_minor": 2
}
